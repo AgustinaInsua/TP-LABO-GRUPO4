{
  "cells": [
    {
      "cell_type": "markdown",
      "metadata": {
        "colab_type": "text",
        "id": "view-in-github"
      },
      "source": [
        "<a href=\"https://colab.research.google.com/github/AgustinaInsua/TP-LABO-GRUPO4/blob/main/pruebakmeans.ipynb\" target=\"_parent\"><img src=\"https://colab.research.google.com/assets/colab-badge.svg\" alt=\"Open In Colab\"/></a>"
      ]
    },
    {
      "cell_type": "markdown",
      "metadata": {
        "id": "oFMXA8KBjrkp"
      },
      "source": [
        "Importar las librerias"
      ]
    },
    {
      "cell_type": "code",
      "execution_count": 6,
      "metadata": {
        "id": "lRMohfc-hm-x"
      },
      "outputs": [
        {
          "ename": "ModuleNotFoundError",
          "evalue": "No module named 'pandas'",
          "output_type": "error",
          "traceback": [
            "\u001b[1;31m---------------------------------------------------------------------------\u001b[0m",
            "\u001b[1;31mModuleNotFoundError\u001b[0m                       Traceback (most recent call last)",
            "Cell \u001b[1;32mIn[6], line 1\u001b[0m\n\u001b[1;32m----> 1\u001b[0m \u001b[39mimport\u001b[39;00m \u001b[39mpandas\u001b[39;00m \u001b[39mas\u001b[39;00m \u001b[39mpd\u001b[39;00m\n\u001b[0;32m      2\u001b[0m \u001b[39mimport\u001b[39;00m \u001b[39mnumpy\u001b[39;00m \u001b[39mas\u001b[39;00m \u001b[39mnp\u001b[39;00m\n\u001b[0;32m      3\u001b[0m \u001b[39mfrom\u001b[39;00m \u001b[39msklearn\u001b[39;00m\u001b[39m.\u001b[39;00m\u001b[39mcluster\u001b[39;00m \u001b[39mimport\u001b[39;00m KMeans\n",
            "\u001b[1;31mModuleNotFoundError\u001b[0m: No module named 'pandas'"
          ]
        }
      ],
      "source": [
        "import pandas as pd\n",
        "import numpy as np\n",
        "from sklearn.cluster import KMeans\n",
        "from sklearn.manifold import TSNE\n",
        "from sklearn.preprocessing import LabelEncoder\n",
        "import matplotlib.pyplot as plt\n",
        "import matplotlib as mpl\n",
        "from matplotlib.patches import Patch\n",
        "from matplotlib.lines import Line2D\n",
        "from scipy.spatial import ConvexHull\n",
        "from scipy.spatial import QhullError\n",
        "\n"
      ]
    },
    {
      "cell_type": "markdown",
      "metadata": {
        "id": "TVgPJOSyj1Wx"
      },
      "source": [
        "Leer el archivo .csv"
      ]
    },
    {
      "cell_type": "code",
      "execution_count": 5,
      "metadata": {
        "colab": {
          "base_uri": "https://localhost:8080/",
          "height": 756
        },
        "id": "TolybJ0KrdCH",
        "outputId": "817aecd4-98dc-4aac-dfed-42f12a78859d"
      },
      "outputs": [
        {
          "ename": "NameError",
          "evalue": "name 'pd' is not defined",
          "output_type": "error",
          "traceback": [
            "\u001b[1;31m---------------------------------------------------------------------------\u001b[0m",
            "\u001b[1;31mNameError\u001b[0m                                 Traceback (most recent call last)",
            "Cell \u001b[1;32mIn[5], line 3\u001b[0m\n\u001b[0;32m      1\u001b[0m url \u001b[39m=\u001b[39m \u001b[39m'\u001b[39m\u001b[39mhttps://github.com/AgustinaInsua/TP-LABO-GRUPO4/raw/main/info2018.csv\u001b[39m\u001b[39m'\u001b[39m\n\u001b[0;32m      2\u001b[0m nrows_to_read \u001b[39m=\u001b[39m \u001b[39m1000\u001b[39m  \u001b[39m# Cambia este valor al número de filas que desees cargar\u001b[39;00m\n\u001b[1;32m----> 3\u001b[0m data \u001b[39m=\u001b[39m pd\u001b[39m.\u001b[39mread_csv(url, nrows\u001b[39m=\u001b[39mnrows_to_read)\n\u001b[0;32m      5\u001b[0m data\n",
            "\u001b[1;31mNameError\u001b[0m: name 'pd' is not defined"
          ]
        }
      ],
      "source": [
        "url = 'https://github.com/AgustinaInsua/TP-LABO-GRUPO4/raw/main/info2018.csv'\n",
        "nrows_to_read = 10000  # Cambia este valor al número de filas que desees cargar\n",
        "data = pd.read_csv(url, nrows=nrows_to_read)\n",
        "\n",
        "data\n"
      ]
    },
    {
      "cell_type": "code",
      "execution_count": null,
      "metadata": {
        "colab": {
          "base_uri": "https://localhost:8080/",
          "height": 512
        },
        "id": "YhmsvAmv9TZy",
        "outputId": "8586b254-3517-4ce0-9aaf-9c7ba4215881"
      },
      "outputs": [],
      "source": [
        "# Función para asignar una región a cada provincia\n",
        "def assign_region(province):\n",
        "    if province in ['Corrientes', 'Chaco', 'Misiones', 'Formosa']:\n",
        "        return 'Nordeste-Litoral'\n",
        "    elif province in ['Tucumán', 'Jujuy', 'Salta', 'Catamarca', 'Santiago del Estero']:\n",
        "        return 'Noroeste'\n",
        "    elif province in ['San Luis', 'San Juan', 'Mendoza', 'La Rioja']:\n",
        "        return 'Cuyo'\n",
        "    elif province in ['Neuquén', 'Río Negro', 'Tierra del Fuego', 'Santa Cruz', 'Chubut']:\n",
        "        return 'Patagonia'\n",
        "    elif province in ['Buenos Aires', 'CABA']:\n",
        "        return 'Buenos Aires'\n",
        "    else:\n",
        "        return 'Pampeana'\n",
        "# Limpiar las columnas de cadena para eliminar las comillas dobles\n",
        "string_columns = ['provincia_nombre']  # Agrega aquí las columnas que son cadenas\n",
        "for column in string_columns:\n",
        "    data[column] = data[column].str.replace('\"', '')  # Eliminar comillas dobles\n",
        "\n",
        "# Aplicamos la función a la columna 'PROVINCE' y guardamos el resultado en una nueva columna 'REGION'\n",
        "data['region'] = data['provincia_nombre'].apply(assign_region)\n",
        "data"
      ]
    },
    {
      "cell_type": "code",
      "execution_count": null,
      "metadata": {
        "id": "7ekl8ndMA8yZ"
      },
      "outputs": [],
      "source": [
        "ocurrences = data['region'].value_counts()\n",
        "print(ocurrences)"
      ]
    },
    {
      "cell_type": "code",
      "execution_count": null,
      "metadata": {
        "colab": {
          "base_uri": "https://localhost:8080/",
          "height": 356
        },
        "id": "nl7GdE8G_Nez",
        "outputId": "5256d029-c263-4658-fe72-e0d5e0cbbfd2"
      },
      "outputs": [],
      "source": [
        "columns_to_drop = ['provincia_nombre', 'departamento_nombre', 'grupo_edad_desc']\n",
        "data = data.drop(columns=columns_to_drop)\n",
        "data"
      ]
    },
    {
      "cell_type": "code",
      "execution_count": null,
      "metadata": {
        "colab": {
          "base_uri": "https://localhost:8080/",
          "height": 423
        },
        "id": "KDYjuV3ToxP-",
        "outputId": "0207c997-c3ec-4203-ce88-230833a2c9a3"
      },
      "outputs": [],
      "source": [
        "# Asignaciones para columnas no númericas\n",
        "assignment_mapping = {\n",
        "    'evento_nombre': {\n",
        "        'Bronquiolitis en menores de 2 años': 2,\n",
        "        'Enfermedad tipo influenza (ETI)': 3,\n",
        "        'Neumonía': 1\n",
        "    },\n",
        "    'region': {\n",
        "        'Buenos Aires': 1,\n",
        "        'Pampeana': 2,\n",
        "        'Noroeste': 3,\n",
        "        'Cuyo': 4,\n",
        "        'Patagonia': 5,\n",
        "        'Nordeste-Litoral': 6\n",
        "    }\n",
        "}\n",
        "\n",
        "# Limpia valores de las columnas antes de asignar\n",
        "string_columns = ['evento_nombre']\n",
        "for column in string_columns:\n",
        "    data[column] = data[column].str.strip('\"')  # Elimina comillas\n",
        "    data[column] = data[column].str.strip()     # Elimina espacios en blanco\n",
        "\n",
        "data.fillna(0, inplace=True)\n",
        "\n",
        "# Aplica las asignaciones\n",
        "for column, mapping in assignment_mapping.items():\n",
        "    data[column] = data[column].map(mapping)\n",
        "data\n",
        "\n"
      ]
    },
    {
      "cell_type": "code",
      "execution_count": 7,
      "metadata": {
        "colab": {
          "base_uri": "https://localhost:8080/",
          "height": 472
        },
        "id": "UMb6i1WipI6Q",
        "outputId": "bdaf6c3d-5e2f-4c9c-a789-e3ecf45a8956"
      },
      "outputs": [
        {
          "ename": "NameError",
          "evalue": "name 'KMeans' is not defined",
          "output_type": "error",
          "traceback": [
            "\u001b[1;31m---------------------------------------------------------------------------\u001b[0m",
            "\u001b[1;31mNameError\u001b[0m                                 Traceback (most recent call last)",
            "Cell \u001b[1;32mIn[7], line 7\u001b[0m\n\u001b[0;32m      5\u001b[0m wcss\u001b[39m=\u001b[39m[]\n\u001b[0;32m      6\u001b[0m \u001b[39mfor\u001b[39;00m i \u001b[39min\u001b[39;00m \u001b[39mrange\u001b[39m(\u001b[39m2\u001b[39m,\u001b[39m10\u001b[39m):\n\u001b[1;32m----> 7\u001b[0m   kmeans \u001b[39m=\u001b[39m KMeans(i, n_init\u001b[39m=\u001b[39m\u001b[39m100\u001b[39m)\n\u001b[0;32m      8\u001b[0m   kmeans\u001b[39m.\u001b[39mfit(data)\n\u001b[0;32m      9\u001b[0m   wcss_iter \u001b[39m=\u001b[39m kmeans\u001b[39m.\u001b[39minertia_\n",
            "\u001b[1;31mNameError\u001b[0m: name 'KMeans' is not defined"
          ]
        }
      ],
      "source": [
        "'''\n",
        "n_clusters: En el paso de aplicar K-Means calcularemos\n",
        "la cantidad de clusters con el Método del codo\n",
        "'''\n",
        "wcss=[]\n",
        "for i in range(2,10):\n",
        "  kmeans = KMeans(i, n_init=100)\n",
        "  kmeans.fit(data)\n",
        "  wcss_iter = kmeans.inertia_\n",
        "  wcss.append(wcss_iter)\n",
        "\n",
        "number_clusters = range(2,10)\n",
        "plt.plot(number_clusters, wcss, marker='*', markersize=10, color='green')\n",
        "plt.title('Número optimo de clusters')\n",
        "plt.xlabel('Número de clusters')\n",
        "plt.ylabel('WCSS')"
      ]
    },
    {
      "cell_type": "code",
      "execution_count": null,
      "metadata": {
        "colab": {
          "base_uri": "https://localhost:8080/",
          "height": 564
        },
        "id": "UDEGex8Z_Az2",
        "outputId": "06356b01-81c9-404f-d004-669d2951297a"
      },
      "outputs": [],
      "source": [
        "from sklearn.metrics import silhouette_samples, silhouette_score\n",
        "\n",
        "silhouette_scores = []\n",
        "\n",
        "for k in range(2, 10):\n",
        "    kmeans = KMeans(n_clusters=k, n_init=100, random_state=0)\n",
        "    cluster_labels = kmeans.fit_predict(data)\n",
        "\n",
        "    silhouette_avg = silhouette_score(data, cluster_labels)\n",
        "    silhouette_scores.append(silhouette_avg)\n",
        "\n",
        "    # Calcular las puntuaciones de silueta para cada muestra\n",
        "    sample_silhouette_values = silhouette_samples(data, cluster_labels)\n",
        "\n",
        "plt.figure(figsize=(8, 6))\n",
        "plt.plot(range(2, 10), silhouette_scores, marker='o')\n",
        "plt.xlabel('Número de Clusters')\n",
        "plt.ylabel('Puntuación de Silueta Promedio')\n",
        "plt.title('Análisis de Siluetas')\n",
        "plt.grid(True)\n",
        "plt.show()"
      ]
    },
    {
      "cell_type": "code",
      "execution_count": null,
      "metadata": {
        "id": "RvQB1BqB3jZp"
      },
      "outputs": [],
      "source": [
        "# Aplicamos K-Means para clasificar las regiones en grupos\n",
        "kmeans = KMeans(n_clusters=4, n_init=100, random_state=0).fit(data)\n",
        "\n",
        "# Asigna un color a cada región en base a los clusters\n",
        "data['Cluster'] = kmeans.labels_"
      ]
    },
    {
      "cell_type": "code",
      "execution_count": null,
      "metadata": {
        "colab": {
          "base_uri": "https://localhost:8080/",
          "height": 719
        },
        "id": "OvKBNilJ2eX0",
        "outputId": "14669623-184e-4864-f6e1-9606dd1383ac"
      },
      "outputs": [],
      "source": [
        "# Reducción de dimensionalidad con t-SNE\n",
        "tsne = TSNE(n_components=2, random_state=0, perplexity=45)\n",
        "tsne_coordinates = tsne.fit_transform(data)\n",
        "data['tsne_x'] = tsne_coordinates[:, 0]\n",
        "data['tsne_y'] = tsne_coordinates[:, 1]\n",
        "\n",
        "# Generación de colores para los clusters\n",
        "cluster_colors = plt.cm.tab10.colors\n",
        "plt.figure(figsize=(12, 8))\n",
        "unique_clusters = np.unique(kmeans.labels_)\n",
        "data['provincia_id'] = data['provincia_id']\n",
        "for cluster in unique_clusters:\n",
        "    cluster_data = data[data['Cluster'] == cluster]\n",
        "    plt.scatter(cluster_data['tsne_x'], cluster_data['tsne_y'],\n",
        "                label=f'Cluster {cluster}', alpha=0.7, s=50)\n",
        "\n",
        "legend_elements = [Line2D([0], [0], marker='o', color='w', markerfacecolor=f'C{cluster}', markersize=10, label=f'Cluster {cluster}') for cluster in unique_clusters]\n",
        "\n",
        "# Coloca la leyenda al costado del gráfico\n",
        "plt.legend(handles=legend_elements, loc='upper right', bbox_to_anchor=(1.05, 1))\n",
        "\n",
        "plt.title('Clustering con K-Means (' + str(kmeans.n_clusters) +' clústers) y t-SNE ( '+ str(tsne.perplexity) + ' de perplejidad) de Regiones y provincias')\n",
        "plt.xlabel('t-SNE x')\n",
        "plt.ylabel('t-SNE y')\n",
        "plt.show()"
      ]
    }
  ],
  "metadata": {
    "colab": {
      "include_colab_link": true,
      "name": "Welcome To Colaboratory",
      "provenance": [],
      "toc_visible": true
    },
    "kernelspec": {
      "display_name": "Python 3",
      "name": "python3"
    },
    "language_info": {
      "codemirror_mode": {
        "name": "ipython",
        "version": 3
      },
      "file_extension": ".py",
      "mimetype": "text/x-python",
      "name": "python",
      "nbconvert_exporter": "python",
      "pygments_lexer": "ipython3",
      "version": "3.9.13"
    }
  },
  "nbformat": 4,
  "nbformat_minor": 0
}
